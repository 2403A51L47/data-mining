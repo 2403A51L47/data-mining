{
  "nbformat": 4,
  "nbformat_minor": 0,
  "metadata": {
    "colab": {
      "provenance": [],
      "authorship_tag": "ABX9TyNjbG8aDEsXXMtWm559NKVH",
      "include_colab_link": true
    },
    "kernelspec": {
      "name": "python3",
      "display_name": "Python 3"
    },
    "language_info": {
      "name": "python"
    }
  },
  "cells": [
    {
      "cell_type": "markdown",
      "metadata": {
        "id": "view-in-github",
        "colab_type": "text"
      },
      "source": [
        "<a href=\"https://colab.research.google.com/github/2403A51L47/data-mining/blob/main/Untitled26.ipynb\" target=\"_parent\"><img src=\"https://colab.research.google.com/assets/colab-badge.svg\" alt=\"Open In Colab\"/></a>"
      ]
    },
    {
      "cell_type": "code",
      "execution_count": 101,
      "metadata": {
        "id": "yetcds4nmHJW"
      },
      "outputs": [],
      "source": [
        "import pandas as pd\n",
        "import numpy as np"
      ]
    },
    {
      "cell_type": "code",
      "source": [
        "students   = {'student_id' : [1,2,3,4,5],\n",
        "               'name' : ['A','B','C','D','E']}\n",
        "\n",
        "scores = {'student_id' : [1,2,3,6,5],\n",
        "                  'maths_score' : [50,60,70,80,90],\n",
        "                  'science_score' : [60,70,80,90,100]}"
      ],
      "metadata": {
        "id": "9ZzBhRevmPzB"
      },
      "execution_count": 102,
      "outputs": []
    },
    {
      "cell_type": "code",
      "source": [
        "df_students = pd.DataFrame(students)\n",
        "df_scores = pd.DataFrame(scores)"
      ],
      "metadata": {
        "id": "aGKi4pfwopzX"
      },
      "execution_count": 103,
      "outputs": []
    },
    {
      "cell_type": "code",
      "source": [
        "print(df_students)\n",
        "print(df_scores)"
      ],
      "metadata": {
        "colab": {
          "base_uri": "https://localhost:8080/"
        },
        "id": "ZpPno06Oo5Kk",
        "outputId": "7295a2b3-9965-4010-cccb-bbc80f871553"
      },
      "execution_count": 104,
      "outputs": [
        {
          "output_type": "stream",
          "name": "stdout",
          "text": [
            "   student_id name\n",
            "0           1    A\n",
            "1           2    B\n",
            "2           3    C\n",
            "3           4    D\n",
            "4           5    E\n",
            "   student_id  maths_score  science_score\n",
            "0           1           50             60\n",
            "1           2           60             70\n",
            "2           3           70             80\n",
            "3           6           80             90\n",
            "4           5           90            100\n"
          ]
        }
      ]
    },
    {
      "cell_type": "code",
      "source": [
        "inner_merge = pd.merge(df_students,df_scores,on = 'student_id',how = 'inner')\n",
        "print(inner_merge)"
      ],
      "metadata": {
        "colab": {
          "base_uri": "https://localhost:8080/"
        },
        "id": "DUIwCZuapGpZ",
        "outputId": "12536f70-46fe-4b5b-f59e-cdd5e0bdc564"
      },
      "execution_count": 105,
      "outputs": [
        {
          "output_type": "stream",
          "name": "stdout",
          "text": [
            "   student_id name  maths_score  science_score\n",
            "0           1    A           50             60\n",
            "1           2    B           60             70\n",
            "2           3    C           70             80\n",
            "3           5    E           90            100\n"
          ]
        }
      ]
    },
    {
      "cell_type": "code",
      "source": [
        "left_merge = pd.merge(df_students,df_scores,on = 'student_id',how = 'left')\n",
        "print(left_merge)"
      ],
      "metadata": {
        "colab": {
          "base_uri": "https://localhost:8080/"
        },
        "id": "b4uuSK9Vqnzd",
        "outputId": "ade0c42f-6690-4d0e-ae81-1ff05b9c8306"
      },
      "execution_count": 106,
      "outputs": [
        {
          "output_type": "stream",
          "name": "stdout",
          "text": [
            "   student_id name  maths_score  science_score\n",
            "0           1    A         50.0           60.0\n",
            "1           2    B         60.0           70.0\n",
            "2           3    C         70.0           80.0\n",
            "3           4    D          NaN            NaN\n",
            "4           5    E         90.0          100.0\n"
          ]
        }
      ]
    },
    {
      "cell_type": "code",
      "source": [
        "right_merge = pd.merge(df_students,df_scores,on = 'student_id',how = 'right')\n",
        "print(right_merge)"
      ],
      "metadata": {
        "colab": {
          "base_uri": "https://localhost:8080/"
        },
        "id": "Px7j0hqbqvXC",
        "outputId": "f8354024-4363-4436-bba3-ae2c95e58b1b"
      },
      "execution_count": 107,
      "outputs": [
        {
          "output_type": "stream",
          "name": "stdout",
          "text": [
            "   student_id name  maths_score  science_score\n",
            "0           1    A           50             60\n",
            "1           2    B           60             70\n",
            "2           3    C           70             80\n",
            "3           6  NaN           80             90\n",
            "4           5    E           90            100\n"
          ]
        }
      ]
    },
    {
      "cell_type": "code",
      "source": [
        "aggregate_stats = inner_merge[['maths_score', 'science_score']].agg(['mean', 'max', 'min', 'count'])\n",
        "print(\"\\nAggregate Statistics:\\n\", aggregate_stats)"
      ],
      "metadata": {
        "colab": {
          "base_uri": "https://localhost:8080/"
        },
        "id": "TUWHWTE4smso",
        "outputId": "2055f94d-4e84-4b3e-d7c9-74146ccc07d8"
      },
      "execution_count": 115,
      "outputs": [
        {
          "output_type": "stream",
          "name": "stdout",
          "text": [
            "\n",
            "Aggregate Statistics:\n",
            "        maths_score  science_score\n",
            "mean          67.5           77.5\n",
            "max           90.0          100.0\n",
            "min           50.0           60.0\n",
            "count          4.0            4.0\n"
          ]
        }
      ]
    },
    {
      "cell_type": "code",
      "source": [
        "grouped_stats = inner_merge.groupby('student_id')[['maths_score', 'science_score']].agg(['mean', 'max', 'min'])\n",
        "print(\"\\nStatistics Grouped by Student:\\n\", grouped_stats)"
      ],
      "metadata": {
        "colab": {
          "base_uri": "https://localhost:8080/"
        },
        "id": "C95-MCzzt_4v",
        "outputId": "f970e80b-8202-4e2f-8b11-b71cfe04fb91"
      },
      "execution_count": 120,
      "outputs": [
        {
          "output_type": "stream",
          "name": "stdout",
          "text": [
            "\n",
            "Statistics Grouped by Student:\n",
            "            maths_score         science_score          \n",
            "                  mean max min          mean  max  min\n",
            "student_id                                            \n",
            "1                 50.0  50  50          60.0   60   60\n",
            "2                 60.0  60  60          70.0   70   70\n",
            "3                 70.0  70  70          80.0   80   80\n",
            "5                 90.0  90  90         100.0  100  100\n"
          ]
        }
      ]
    }
  ]
}